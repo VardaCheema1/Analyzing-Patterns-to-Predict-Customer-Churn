{
  "nbformat": 4,
  "nbformat_minor": 0,
  "metadata": {
    "colab": {
      "provenance": []
    },
    "kernelspec": {
      "name": "python3",
      "display_name": "Python 3"
    },
    "language_info": {
      "name": "python"
    }
  },
  "cells": [
    {
      "cell_type": "code",
      "source": [
        "!pip install pyspark"
      ],
      "metadata": {
        "colab": {
          "base_uri": "https://localhost:8080/"
        },
        "id": "ziQOrCbsaDR2",
        "outputId": "5258a704-80a4-41ba-fea9-025ff74eeed2"
      },
      "execution_count": null,
      "outputs": [
        {
          "output_type": "stream",
          "name": "stdout",
          "text": [
            "Collecting pyspark\n",
            "  Downloading pyspark-3.5.1.tar.gz (317.0 MB)\n",
            "\u001b[2K     \u001b[90m━━━━━━━━━━━━━━━━━━━━━━━━━━━━━━━━━━━━━━━━\u001b[0m \u001b[32m317.0/317.0 MB\u001b[0m \u001b[31m2.9 MB/s\u001b[0m eta \u001b[36m0:00:00\u001b[0m\n",
            "\u001b[?25h  Preparing metadata (setup.py) ... \u001b[?25l\u001b[?25hdone\n",
            "Requirement already satisfied: py4j==0.10.9.7 in /usr/local/lib/python3.10/dist-packages (from pyspark) (0.10.9.7)\n",
            "Building wheels for collected packages: pyspark\n",
            "  Building wheel for pyspark (setup.py) ... \u001b[?25l\u001b[?25hdone\n",
            "  Created wheel for pyspark: filename=pyspark-3.5.1-py2.py3-none-any.whl size=317488491 sha256=b1ca7abf027f16d12ebc36dde6ee9db337fc7284bb771217d9e026d4f06c2316\n",
            "  Stored in directory: /root/.cache/pip/wheels/80/1d/60/2c256ed38dddce2fdd93be545214a63e02fbd8d74fb0b7f3a6\n",
            "Successfully built pyspark\n",
            "Installing collected packages: pyspark\n",
            "Successfully installed pyspark-3.5.1\n"
          ]
        }
      ]
    },
    {
      "cell_type": "code",
      "source": [
        "import pandas as pd\n",
        "from pyspark.sql import SparkSession\n",
        "from pyspark.sql.functions import col, concat, lit, array, array_contains\n",
        "from pyspark.ml.fpm import FPGrowth\n",
        "\n",
        "spark = SparkSession.builder \\\n",
        "    .appName(\"FP-Growth Demographic Analysis\") \\\n",
        "    .getOrCreate()\n",
        "\n",
        "file1 = '/content/drive/MyDrive/Telco_customer_churn.csv'\n",
        "file2 = '/content/drive/MyDrive/Telco_customer_churn_demographics.csv'\n",
        "\n",
        "\n",
        "df1 = spark.read.csv(file1, header=True, inferSchema=True)\n",
        "df2 = spark.read.csv(file2, header=True, inferSchema=True)\n",
        "\n",
        "df2 = df2.drop('count', 'dependents', 'gender', 'senior citizen')\n",
        "merged_df = df1.join(df2, on='CustomerID', how='outer')\n",
        "\n",
        "merged_file = '/content/drive/MyDrive/merged_file.csv'\n",
        "merged_df.write.csv(merged_file, header=True, mode='overwrite')\n",
        "\n",
        "df = spark.read.csv(merged_file, header=True, inferSchema=True)\n",
        "df = df.withColumn(\"High Churn Risk\", when(col(\"Churn Score\") > 50, \"High Churn Risk\").otherwise(\"Low Churn Risk\"))\n",
        "\n",
        "df = df.withColumn(\"Senior Citizen\", when(col(\"Senior Citizen\") == 1, \"Senior\").otherwise(\"Non-Senior\"))\n",
        "df = df.withColumn(\"Gender\", col(\"Gender\"))\n",
        "\n",
        "for column in ['High Churn Risk', 'Senior Citizen', 'Gender', 'Age', 'Married', 'Number of Dependents', 'Under 30']:\n",
        "    df = df.withColumn(column, concat(lit(column + ': '), col(column).cast('string')))\n",
        "\n",
        "df = df.select(\"High Churn Risk\", \"Senior Citizen\", \"Gender\", \"Age\", \"Married\", \"Number of Dependents\", \"Under 30\").na.drop()\n",
        "df = df.withColumn(\"features\", array(\"High Churn Risk\", \"Senior Citizen\", \"Gender\", \"Age\", \"Married\", \"Number of Dependents\", \"Under 30\"))\n",
        "\n",
        "fp_growth = FPGrowth(itemsCol=\"features\", minSupport=0.05, minConfidence=0.1)\n",
        "model = fp_growth.fit(df)\n",
        "\n",
        "\n",
        "frequent_itemsets = model.freqItemsets\n",
        "association_rules = model.associationRules.filter(\n",
        "    (col(\"lift\") > 1) &\n",
        "    (array_contains(col(\"consequent\"), \"High Churn Risk: High Churn Risk\") |\n",
        "     array_contains(col(\"consequent\"), \"High Churn Risk: Low Churn Risk\"))\n",
        ")\n",
        "\n",
        "print(\"Frequent Itemsets:\")\n",
        "frequent_itemsets.show(truncate=False)\n",
        "\n",
        "print(\"Specific Association Rules with Churn Risk in Consequent:\")\n",
        "association_rules.show(truncate=False)\n",
        "\n",
        "\n",
        "spark.stop()"
      ],
      "metadata": {
        "colab": {
          "base_uri": "https://localhost:8080/"
        },
        "id": "CiOHo8gv0GnA",
        "outputId": "873cc8c6-d902-40a7-92b4-6095f5ad69b1"
      },
      "execution_count": null,
      "outputs": [
        {
          "output_type": "stream",
          "name": "stdout",
          "text": [
            "Frequent Itemsets:\n",
            "+-------------------------------------------------------------------------------------------------------------------------------+----+\n",
            "|items                                                                                                                          |freq|\n",
            "+-------------------------------------------------------------------------------------------------------------------------------+----+\n",
            "|[High Churn Risk: Low Churn Risk]                                                                                              |2596|\n",
            "|[High Churn Risk: Low Churn Risk, Number of Dependents: 0]                                                                     |1811|\n",
            "|[High Churn Risk: Low Churn Risk, Number of Dependents: 0, Under 30: No]                                                       |1444|\n",
            "|[High Churn Risk: Low Churn Risk, Number of Dependents: 0, Under 30: No, Senior Citizen: Non-Senior]                           |1444|\n",
            "|[High Churn Risk: Low Churn Risk, Number of Dependents: 0, Senior Citizen: Non-Senior]                                         |1811|\n",
            "|[High Churn Risk: Low Churn Risk, Gender: Male]                                                                                |1295|\n",
            "|[High Churn Risk: Low Churn Risk, Gender: Male, Number of Dependents: 0]                                                       |891 |\n",
            "|[High Churn Risk: Low Churn Risk, Gender: Male, Number of Dependents: 0, Under 30: No]                                         |708 |\n",
            "|[High Churn Risk: Low Churn Risk, Gender: Male, Number of Dependents: 0, Under 30: No, Senior Citizen: Non-Senior]             |708 |\n",
            "|[High Churn Risk: Low Churn Risk, Gender: Male, Number of Dependents: 0, Senior Citizen: Non-Senior]                           |891 |\n",
            "|[High Churn Risk: Low Churn Risk, Gender: Male, Married: No]                                                                   |606 |\n",
            "|[High Churn Risk: Low Churn Risk, Gender: Male, Married: No, Number of Dependents: 0]                                          |533 |\n",
            "|[High Churn Risk: Low Churn Risk, Gender: Male, Married: No, Number of Dependents: 0, Under 30: No]                            |418 |\n",
            "|[High Churn Risk: Low Churn Risk, Gender: Male, Married: No, Number of Dependents: 0, Under 30: No, Senior Citizen: Non-Senior]|418 |\n",
            "|[High Churn Risk: Low Churn Risk, Gender: Male, Married: No, Number of Dependents: 0, Senior Citizen: Non-Senior]              |533 |\n",
            "|[High Churn Risk: Low Churn Risk, Gender: Male, Married: No, Under 30: No]                                                     |469 |\n",
            "|[High Churn Risk: Low Churn Risk, Gender: Male, Married: No, Under 30: No, Senior Citizen: Non-Senior]                         |469 |\n",
            "|[High Churn Risk: Low Churn Risk, Gender: Male, Married: No, Senior Citizen: Non-Senior]                                       |606 |\n",
            "|[High Churn Risk: Low Churn Risk, Gender: Male, Under 30: No]                                                                  |1010|\n",
            "|[High Churn Risk: Low Churn Risk, Gender: Male, Under 30: No, Senior Citizen: Non-Senior]                                      |1010|\n",
            "+-------------------------------------------------------------------------------------------------------------------------------+----+\n",
            "only showing top 20 rows\n",
            "\n",
            "Specific Association Rules with Churn Risk in Consequent:\n",
            "+-----------------------------------------------------------------------------------+----------------------------------+-------------------+------------------+-------------------+\n",
            "|antecedent                                                                         |consequent                        |confidence         |lift              |support            |\n",
            "+-----------------------------------------------------------------------------------+----------------------------------+-------------------+------------------+-------------------+\n",
            "|[Gender: Male, Married: No, Senior Citizen: Non-Senior]                            |[High Churn Risk: High Churn Risk]|0.6708310700706138 |1.0624383239278914|0.1753514127502485 |\n",
            "|[Married: Yes, Gender: Male]                                                       |[High Churn Risk: Low Churn Risk] |0.40198366394399065|1.0905897323411118|0.09782763027119125|\n",
            "|[Married: Yes, Number of Dependents: 0]                                            |[High Churn Risk: High Churn Risk]|0.6432354357246028 |1.018733342434985 |0.1896918926593781 |\n",
            "|[Gender: Male, Number of Dependents: 0, Under 30: No, Senior Citizen: Non-Senior]  |[High Churn Risk: High Churn Risk]|0.6802168021680217 |1.07730311168639  |0.2138293340905864 |\n",
            "|[Gender: Male, Married: No, Under 30: No, Senior Citizen: Non-Senior]              |[High Churn Risk: High Churn Risk]|0.6796448087431693 |1.0763972088999645|0.14127502484736618|\n",
            "|[Married: Yes, Gender: Male, Senior Citizen: Non-Senior]                           |[High Churn Risk: Low Churn Risk] |0.40198366394399065|1.0905897323411118|0.09782763027119125|\n",
            "|[Gender: Female, Married: No]                                                      |[High Churn Risk: High Churn Risk]|0.6733333333333333 |1.066401319241436 |0.17208575890955558|\n",
            "|[Married: Yes, Under 30: No, Senior Citizen: Non-Senior]                           |[High Churn Risk: Low Churn Risk] |0.4056952662721893 |1.1006593838039405|0.15575748970609116|\n",
            "|[Married: Yes, Gender: Female, Number of Dependents: 0, Senior Citizen: Non-Senior]|[High Churn Risk: Low Churn Risk] |0.37696850393700787|1.0227231021680843|0.05438023569501633|\n",
            "|[Under 30: Yes]                                                                    |[High Churn Risk: Low Churn Risk] |0.3961456102783726 |1.0747509758053075|0.07880164702541531|\n",
            "|[Married: Yes, Gender: Female, Number of Dependents: 0]                            |[High Churn Risk: Low Churn Risk] |0.37696850393700787|1.0227231021680843|0.05438023569501633|\n",
            "|[Married: No, Number of Dependents: 0, Under 30: No]                               |[High Churn Risk: High Churn Risk]|0.6831610044313147 |1.0819660342275128|0.26267215675138433|\n",
            "|[Married: Yes, Gender: Male, Number of Dependents: 0, Under 30: No]                |[High Churn Risk: High Churn Risk]|0.6715741789354474 |1.0636152332454138|0.08419707511003834|\n",
            "|[Married: Yes, Number of Dependents: 0, Senior Citizen: Non-Senior]                |[High Churn Risk: High Churn Risk]|0.6432354357246028 |1.018733342434985 |0.1896918926593781 |\n",
            "|[Gender: Male, Senior Citizen: Non-Senior]                                         |[High Churn Risk: High Churn Risk]|0.6357243319268636 |1.0068375241198337|0.3208859860854749 |\n",
            "|[Married: Yes, Under 30: No]                                                       |[High Churn Risk: Low Churn Risk] |0.4056952662721893 |1.1006593838039405|0.15575748970609116|\n",
            "|[Gender: Female, Married: No, Under 30: No]                                        |[High Churn Risk: High Churn Risk]|0.6777476255088195 |1.073392517755479 |0.14184296464574755|\n",
            "|[Married: Yes, Gender: Male, Number of Dependents: 0, Senior Citizen: Non-Senior]  |[High Churn Risk: High Churn Risk]|0.6625824693685203 |1.049374484318077 |0.09981541956552606|\n",
            "|[Number of Dependents: 0, Under 30: No, Senior Citizen: Non-Senior]                |[High Churn Risk: High Churn Risk]|0.6709206927985415 |1.062580265208034 |0.4180036916086895 |\n",
            "|[Gender: Female, Under 30: No, Senior Citizen: Non-Senior]                         |[High Churn Risk: Low Churn Risk] |0.3695340501792115 |1.0025532802050026|0.14638648303279853|\n",
            "+-----------------------------------------------------------------------------------+----------------------------------+-------------------+------------------+-------------------+\n",
            "only showing top 20 rows\n",
            "\n"
          ]
        }
      ]
    }
  ]
}